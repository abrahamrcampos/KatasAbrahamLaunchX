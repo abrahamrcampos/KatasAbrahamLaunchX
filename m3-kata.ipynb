{
 "cells": [
  {
   "cell_type": "code",
   "execution_count": 2,
   "metadata": {},
   "outputs": [
    {
     "name": "stdout",
     "output_type": "stream",
     "text": [
      "Advertencia: Asteroide se acerca demasiado rápido a la Tierra, a una velocidad de 49km/s\n"
     ]
    }
   ],
   "source": [
    "# Añadir el código necesario para crear una variable que guarde la velocidad del asteroide.\n",
    "# Escribe una expresión de prueba para calcular si necesita una advertencia.\n",
    "# Agregue las instrucciones que se ejecutarán si la expresión de prueba es true o false.\n",
    "\n",
    "velocidadAsteroide = 49\n",
    "if( velocidadAsteroide > 25 ):\n",
    "    print(\"Advertencia: Asteroide se acerca demasiado rápido a la Tierra, a una velocidad de \" + str( velocidadAsteroide ) + \" km/s.\")\n",
    "else:\n",
    "    print(\"No hay riesgo por asteroide.\")"
   ]
  },
  {
   "cell_type": "code",
   "execution_count": 7,
   "metadata": {},
   "outputs": [
    {
     "name": "stdout",
     "output_type": "stream",
     "text": [
      "Un asteroide se acerca. ¡Busca en el cielo, es probable que sea visible!\n"
     ]
    }
   ],
   "source": [
    "# Agrega el código para crear una variable para un asteroide que viaja a 19 km/s\n",
    "# Escribe varias expresiones de prueba para determinar si puedes ver el rayo de luz desde la tierra\n",
    "# Agrega las instrucciones que se ejecutarán si las expresiones de prueba son True o False\n",
    "\n",
    "velocidadAsteroide = 19\n",
    "if( velocidadAsteroide == 20 ):\n",
    "    print(\"Un asteroide se acerca. ¡Busca en el cielo, es probable que sea visible!\")\n",
    "elif( velocidadAsteroide > 20 ):\n",
    "    print(\"Un asteroide se acerca. ¡Busca en el cielo, es probable que sea visible!\")\n",
    "else:\n",
    "    print(\"Un asteroide se acerca, pero probablemente es imperceptible y no lo podrás ver a simple vista.\")"
   ]
  },
  {
   "cell_type": "code",
   "execution_count": 12,
   "metadata": {},
   "outputs": [
    {
     "name": "stdout",
     "output_type": "stream",
     "text": [
      "Advertencia: Un asteroide de gran tamaño y a peligrosa velocidad se acerca.\n"
     ]
    }
   ],
   "source": [
    "# Agrega el código para crear nuevas variables para la velocidad y el tamaño del asteroide\n",
    "# Para probar el código, prueba con varias velocidades y tamaños\n",
    "# Escribe varias expresiones de prueba o combinaciones de expresiones de prueba para determinar qué mensaje se debe enviar a Tierra.\n",
    "\n",
    "velocidadAsteroide = 26\n",
    "tamanoAsteroide = 45\n",
    "\n",
    "if( tamanoAsteroide > 25 and tamanoAsteroide < 1000 and velocidadAsteroide > 25 ):\n",
    "    print(\"Advertencia: Un asteroide de gran tamaño y a peligrosa velocidad se acerca.\")\n",
    "elif( tamanoAsteroide > 25 and tamanoAsteroide < 1000 ):\n",
    "    print(\"Un asteroide grande pero a baja velocidad puede representar un riesgo.\")\n",
    "elif( velocidadAsteroide > 25 ):\n",
    "    print(\"Advertencia: Asteroide se acerca demasiado rápido a la Tierra\")\n",
    "elif( velocidadAsteroide >= 20 ):\n",
    "    print(\"Un asteroide se acerca. ¡Busca en el cielo, es probable que sea visible!\")\n",
    "else:\n",
    "    print(\"No hay riesgos ni reportes sobre asteroides.\")"
   ]
  }
 ],
 "metadata": {
  "interpreter": {
   "hash": "2f465042b44290359d1e2f1de07d33b21cd76a6049b2ce8e915f702714aed3b8"
  },
  "kernelspec": {
   "display_name": "Python 3.10.1 64-bit",
   "language": "python",
   "name": "python3"
  },
  "language_info": {
   "codemirror_mode": {
    "name": "ipython",
    "version": 3
   },
   "file_extension": ".py",
   "mimetype": "text/x-python",
   "name": "python",
   "nbconvert_exporter": "python",
   "pygments_lexer": "ipython3",
   "version": "3.10.1"
  },
  "orig_nbformat": 4
 },
 "nbformat": 4,
 "nbformat_minor": 2
}
