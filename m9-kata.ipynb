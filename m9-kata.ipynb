{
 "cells": [
  {
   "cell_type": "markdown",
   "metadata": {},
   "source": [
    "# Ejercicio 1"
   ]
  },
  {
   "cell_type": "code",
   "execution_count": 6,
   "metadata": {},
   "outputs": [],
   "source": [
    "# Función para leer 3 tanques de combustible y muestre el promedio\n",
    "def tanques(tanque1, tanque2, tanque3):\n",
    "    promedio = (tanque1 + tanque2 + tanque3)/3\n",
    "    return f\"\"\"Reporte de combustible:\n",
    "    Tanque 1: {tanque1}\n",
    "    Tanque 2: {tanque2}\n",
    "    Tanque 3: {tanque3}\n",
    "    Promedio: {promedio}\"\"\"\n"
   ]
  },
  {
   "cell_type": "code",
   "execution_count": 8,
   "metadata": {},
   "outputs": [
    {
     "name": "stdout",
     "output_type": "stream",
     "text": [
      "Reporte:\n",
      "    Tanque 1: 0\n",
      "    Tanque 2: 1\n",
      "    Tanque 3: 0\n",
      "    Promedio: 0.3333333333333333\n"
     ]
    }
   ],
   "source": [
    "# Llamamos a la función que genera el reporte print(funcion(tanque1, tanque2, tanque3))\n",
    "print(tanques(0,0,0))"
   ]
  },
  {
   "cell_type": "code",
   "execution_count": 14,
   "metadata": {},
   "outputs": [],
   "source": [
    "# Función promedio \n",
    "def promedio(valores):\n",
    "    promedio = sum(valores)/len(valores)\n",
    "    print(promedio)\n",
    "    return promedio\n"
   ]
  },
  {
   "cell_type": "code",
   "execution_count": 16,
   "metadata": {},
   "outputs": [
    {
     "name": "stdout",
     "output_type": "stream",
     "text": [
      "4.0\n",
      "Reporte de combustible:\n",
      "    Tanque 1: 3\n",
      "    Tanque 2: 4\n",
      "    Tanque 3: 5\n",
      "    Promedio: 4.0\n"
     ]
    }
   ],
   "source": [
    "# Actualiza la función\n",
    "def tanques(tanque1, tanque2, tanque3):\n",
    "    return f\"\"\"Reporte de combustible:\n",
    "    Tanque 1: {tanque1}\n",
    "    Tanque 2: {tanque2}\n",
    "    Tanque 3: {tanque3}\n",
    "    Promedio: {promedio([tanque1, tanque2, tanque3])}\"\"\"\n",
    "\n",
    "print(tanques(3,4,5))"
   ]
  },
  {
   "cell_type": "markdown",
   "metadata": {},
   "source": [
    "# Ejercicio 2"
   ]
  },
  {
   "cell_type": "code",
   "execution_count": 18,
   "metadata": {},
   "outputs": [
    {
     "name": "stdout",
     "output_type": "stream",
     "text": [
      "\n",
      "    Tiempo de vuelo total: 96\n",
      "    Destino: Marte\n",
      "    Combustible total en tanque: 11000\n"
     ]
    }
   ],
   "source": [
    "# Función con un informe preciso de la misión. Considera hora de prelanzamiento, tiempo de vuelo, destino, tanque externo y tanque interno\n",
    "def informe(hora_prelanzamiento, tiempo_vuelo, destino, tanque_externo, tanque_interno):\n",
    "    return f\"\"\"\n",
    "    Tiempo de vuelo total: {hora_prelanzamiento + tiempo_vuelo}\n",
    "    Destino: {destino}\n",
    "    Combustible total en tanque: {tanque_externo + tanque_interno}\"\"\"\n",
    "\n",
    "print(informe(14, 82, \"Marte\", 6400, 4600))"
   ]
  },
  {
   "cell_type": "code",
   "execution_count": 22,
   "metadata": {},
   "outputs": [
    {
     "name": "stdout",
     "output_type": "stream",
     "text": [
      "\n",
      "    Tiempo de vuelo total: 96\n",
      "    Destino: Marte\n",
      "    Combustible total en tanque: 11000\n"
     ]
    }
   ],
   "source": [
    "# Escribe tu nueva función de reporte considerando lo anterior\n",
    "def informe( destino, *minutes, **fuel_reservoirs):\n",
    "    return f\"\"\"\n",
    "    Tiempo de vuelo total: {sum(minutes)}\n",
    "    Destino: {destino}\n",
    "    Combustible total en tanque: {sum(fuel_reservoirs.values())}\"\"\"\n",
    "\n",
    "print(informe(\"Marte\", 14, 82, tanque_1 = 6400, tanque_2 = 4600))"
   ]
  },
  {
   "cell_type": "code",
   "execution_count": 29,
   "metadata": {},
   "outputs": [
    {
     "name": "stdout",
     "output_type": "stream",
     "text": [
      "\n",
      "    Tiempo de vuelo total: 96\n",
      "    Destino: Marte\n",
      "    Combustible total en tanque: 11000\n",
      "    Combustible en tanque_1: 6400\n",
      "    Combustible en tanque_2: 4600\n",
      "    \n"
     ]
    }
   ],
   "source": [
    "# Escribe tu nueva función\n",
    "def informe( destino, *minutes, **fuel_reservoirs):\n",
    "    reporte = f\"\"\"\n",
    "    Tiempo de vuelo total: {sum(minutes)}\n",
    "    Destino: {destino}\n",
    "    Combustible total en tanque: {sum(fuel_reservoirs.values())}\\n    \"\"\"\n",
    "    for tanque, capacidad in fuel_reservoirs.items():\n",
    "        reporte += f\"\"\"Combustible en {tanque}: {capacidad}\\n    \"\"\"\n",
    "    return reporte\n",
    "\n",
    "print(informe(\"Marte\", 14, 82, tanque_1 = 6400, tanque_2 = 4600))"
   ]
  }
 ],
 "metadata": {
  "interpreter": {
   "hash": "2f465042b44290359d1e2f1de07d33b21cd76a6049b2ce8e915f702714aed3b8"
  },
  "kernelspec": {
   "display_name": "Python 3.10.1 64-bit",
   "language": "python",
   "name": "python3"
  },
  "language_info": {
   "codemirror_mode": {
    "name": "ipython",
    "version": 3
   },
   "file_extension": ".py",
   "mimetype": "text/x-python",
   "name": "python",
   "nbconvert_exporter": "python",
   "pygments_lexer": "ipython3",
   "version": "3.10.1"
  },
  "orig_nbformat": 4
 },
 "nbformat": 4,
 "nbformat_minor": 2
}
